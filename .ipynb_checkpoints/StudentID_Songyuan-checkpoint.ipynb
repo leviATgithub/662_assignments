{
 "cells": [
  {
   "cell_type": "code",
   "execution_count": 1,
   "metadata": {},
   "outputs": [],
   "source": [
    "import json\n",
    "\n",
    "data = {}\n",
    "data['students'] = []\n",
    "data['students'].append({\n",
    "    'name': 'Songyuan Tang',\n",
    "    'GitHubID': 'leviATgithub',\n",
    "    'NetID': 'songyuan921109'\n",
    "})\n",
    "\n",
    "with open('identity.txt', 'w') as outfile:\n",
    "    json.dump(data, outfile)"
   ]
  },
  {
   "cell_type": "code",
   "execution_count": null,
   "metadata": {},
   "outputs": [],
   "source": [
    "import json\n",
    "\n",
    "with open('identity.txt') as json_file:\n",
    "    data = json.load(json_file)\n",
    "    for student in data['students']:\n",
    "        print('Name: ' + student['name'])\n",
    "        print('GitHubID: ' + student['GitHubID'])\n",
    "        print('NetID: ' + student['NetID'])\n",
    "        print('')"
   ]
  }
 ],
 "metadata": {
  "kernelspec": {
   "display_name": "Python 3",
   "language": "python",
   "name": "python3"
  },
  "language_info": {
   "codemirror_mode": {
    "name": "ipython",
    "version": 3
   },
   "file_extension": ".py",
   "mimetype": "text/x-python",
   "name": "python",
   "nbconvert_exporter": "python",
   "pygments_lexer": "ipython3",
   "version": "3.7.4"
  }
 },
 "nbformat": 4,
 "nbformat_minor": 2
}
